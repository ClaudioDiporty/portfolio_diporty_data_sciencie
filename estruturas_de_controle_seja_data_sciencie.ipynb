{
  "nbformat": 4,
  "nbformat_minor": 0,
  "metadata": {
    "colab": {
      "name": "estruturas_de_controle_seja_data_sciencie.ipynb",
      "provenance": [],
      "collapsed_sections": [
        "CUNm6_GcAWRI",
        "7dvwWs77Rc1Y"
      ],
      "toc_visible": true,
      "mount_file_id": "1lIf3MAuUrin8bsK7uMsVIVE8dHkAjHb9",
      "authorship_tag": "ABX9TyP4klIpZNEGWiHL0KMQouZU",
      "include_colab_link": true
    },
    "kernelspec": {
      "name": "python3",
      "display_name": "Python 3"
    }
  },
  "cells": [
    {
      "cell_type": "markdown",
      "metadata": {
        "id": "view-in-github",
        "colab_type": "text"
      },
      "source": [
        "<a href=\"https://colab.research.google.com/github/ClaudioDiporty/portfolio_diporty_data_sciencie/blob/main/estruturas_de_controle_seja_data_sciencie.ipynb\" target=\"_parent\"><img src=\"https://colab.research.google.com/assets/colab-badge.svg\" alt=\"Open In Colab\"/></a>"
      ]
    },
    {
      "cell_type": "markdown",
      "metadata": {
        "id": "CUNm6_GcAWRI"
      },
      "source": [
        "### ***Listas***\r\n",
        "\r\n",
        "---"
      ]
    },
    {
      "cell_type": "code",
      "metadata": {
        "colab": {
          "base_uri": "https://localhost:8080/"
        },
        "id": "HIFif60Y2Swj",
        "outputId": "c7ff6e5d-6c58-474c-b9f7-e17c4dbe8b92"
      },
      "source": [
        "#Estruturas de Dados\r\n",
        "#a = [2, 3, 4, 5, 6, 7] --> Valores\r\n",
        "#    [0, 1, 2, 3, 4, 5] --> Posicoes\r\n",
        "\r\n",
        "#Listas de números\r\n",
        "a = [2, 3, 4, 5, 6, 7]\r\n",
        "a[0]  #--> Quer saber valor, coloca posicao entre colchetes."
      ],
      "execution_count": 21,
      "outputs": [
        {
          "output_type": "execute_result",
          "data": {
            "text/plain": [
              "2"
            ]
          },
          "metadata": {
            "tags": []
          },
          "execution_count": 21
        }
      ]
    },
    {
      "cell_type": "code",
      "metadata": {
        "colab": {
          "base_uri": "https://localhost:8080/",
          "height": 35
        },
        "id": "-o34tCJzHS3m",
        "outputId": "b07002b3-bad0-4a9c-f8b4-1817875f2a40"
      },
      "source": [
        "#Listas de String\r\n",
        "b = ['seja', 'um', 'cientista', 'de', 'dados']\r\n",
        "b  [2]  #--> Quer saber valor, coloca posicao entre colchetes."
      ],
      "execution_count": 25,
      "outputs": [
        {
          "output_type": "execute_result",
          "data": {
            "application/vnd.google.colaboratory.intrinsic+json": {
              "type": "string"
            },
            "text/plain": [
              "'cientista'"
            ]
          },
          "metadata": {
            "tags": []
          },
          "execution_count": 25
        }
      ]
    },
    {
      "cell_type": "code",
      "metadata": {
        "colab": {
          "base_uri": "https://localhost:8080/"
        },
        "id": "s5288tnfIgNu",
        "outputId": "a0de5a62-5675-41c3-a5e4-69436e9bb713"
      },
      "source": [
        "#Listas de números + String\r\n",
        "c = ['seja', '1', 'um', '10', [20, 'dua', 32, 'dfa', 56, 'sfa']]  #--> Lista dentro de outra lista.\r\n",
        "c [4] #--> Quer saber valor, coloca posicao entre colchetes."
      ],
      "execution_count": 32,
      "outputs": [
        {
          "output_type": "execute_result",
          "data": {
            "text/plain": [
              "[20, 'dua', 32, 'dfa', 56, 'sfa']"
            ]
          },
          "metadata": {
            "tags": []
          },
          "execution_count": 32
        }
      ]
    },
    {
      "cell_type": "code",
      "metadata": {
        "colab": {
          "base_uri": "https://localhost:8080/",
          "height": 35
        },
        "id": "wffa-NHRKAPU",
        "outputId": "7cdf8c63-ed42-45b7-8cb2-ae580ee73547"
      },
      "source": [
        "#Listas de números + String\r\n",
        "c = ['seja', '1', 'um', '10', [20, 'dua', 32, 'dfa', 56, 'sfa']]  #--> Lista dentro de outra lista.\r\n",
        "c [4][3]  #--> Selecionar elemento da lista dentro da lista."
      ],
      "execution_count": 33,
      "outputs": [
        {
          "output_type": "execute_result",
          "data": {
            "application/vnd.google.colaboratory.intrinsic+json": {
              "type": "string"
            },
            "text/plain": [
              "'dfa'"
            ]
          },
          "metadata": {
            "tags": []
          },
          "execution_count": 33
        }
      ]
    },
    {
      "cell_type": "code",
      "metadata": {
        "colab": {
          "base_uri": "https://localhost:8080/"
        },
        "id": "azUgVZ92KycP",
        "outputId": "a820478a-d816-4900-81c1-bd5e9d24a8d9"
      },
      "source": [
        "#Listas de números + String\r\n",
        "c = ['seja', '1', 'um', '10', [20, 'dua', 32, 'dfa', 56, 'sfa']]\r\n",
        "c [0:3]  #--> Dois pontos significa até, de tal posicao até tal posicao."
      ],
      "execution_count": 35,
      "outputs": [
        {
          "output_type": "execute_result",
          "data": {
            "text/plain": [
              "['seja', '1', 'um']"
            ]
          },
          "metadata": {
            "tags": []
          },
          "execution_count": 35
        }
      ]
    },
    {
      "cell_type": "code",
      "metadata": {
        "colab": {
          "base_uri": "https://localhost:8080/"
        },
        "id": "Ecw5Y7SsMSoE",
        "outputId": "f6b123ba-1121-45aa-d452-44dc25df89e3"
      },
      "source": [
        "#Adicionar um novo elemento na lista\r\n",
        "#Funcao .append --> Adiciona um novo elemento.\r\n",
        "d = ['seja', '1', 'um', '10', [20, 'dua', 32, 'dfa', 56, 'sfa']]\r\n",
        "d.append('crc')  #--> Sempre coloca elemento no final da lista\r\n",
        "d"
      ],
      "execution_count": 43,
      "outputs": [
        {
          "output_type": "execute_result",
          "data": {
            "text/plain": [
              "['seja', '1', 'um', '10', [20, 'dua', 32, 'dfa', 56, 'sfa'], 'crc']"
            ]
          },
          "metadata": {
            "tags": []
          },
          "execution_count": 43
        }
      ]
    },
    {
      "cell_type": "code",
      "metadata": {
        "colab": {
          "base_uri": "https://localhost:8080/"
        },
        "id": "PQYNP3ySNuBc",
        "outputId": "70c342b1-241b-4eda-9bb0-e4ebbbcc0583"
      },
      "source": [
        "d = ['seja', '1', 'um', '10', [20, 'dua', 32, 'dfa', 56, 'sfa']]\r\n",
        "d.append(35)  #--> Sempre coloca elemento no final da lista\r\n",
        "d"
      ],
      "execution_count": 44,
      "outputs": [
        {
          "output_type": "execute_result",
          "data": {
            "text/plain": [
              "['seja', '1', 'um', '10', [20, 'dua', 32, 'dfa', 56, 'sfa'], 35]"
            ]
          },
          "metadata": {
            "tags": []
          },
          "execution_count": 44
        }
      ]
    },
    {
      "cell_type": "code",
      "metadata": {
        "colab": {
          "base_uri": "https://localhost:8080/"
        },
        "id": "WugA40ePN20p",
        "outputId": "6937981b-3c97-490b-b51e-26a0c91aa139"
      },
      "source": [
        "#Funcao .insert --> Adiciona um novo elemento.\r\n",
        "d = ['seja', '1', 'um', '10', [20, 'dua', 32, 'dfa', 56, 'sfa']]\r\n",
        "d.insert(3, 'insert')  #--> Coloca o elemento na funcao desejada//primeiro a posicao, depois o elemento.\r\n",
        "d"
      ],
      "execution_count": 48,
      "outputs": [
        {
          "output_type": "execute_result",
          "data": {
            "text/plain": [
              "['seja', '1', 'um', 'insert', '10', [20, 'dua', 32, 'dfa', 56, 'sfa']]"
            ]
          },
          "metadata": {
            "tags": []
          },
          "execution_count": 48
        }
      ]
    },
    {
      "cell_type": "code",
      "metadata": {
        "colab": {
          "base_uri": "https://localhost:8080/"
        },
        "id": "CFLT4lEQO-Be",
        "outputId": "5da58ded-8d9b-443f-cc28-5d5632164cc0"
      },
      "source": [
        "#Funcao len  --> Medir o tamanho da lista.\r\n",
        "e = ['seja', '1', 'um', '10', [20, 'dua', 32, 'dfa', 56, 'sfa']]\r\n",
        "len(e)"
      ],
      "execution_count": 53,
      "outputs": [
        {
          "output_type": "execute_result",
          "data": {
            "text/plain": [
              "5"
            ]
          },
          "metadata": {
            "tags": []
          },
          "execution_count": 53
        }
      ]
    },
    {
      "cell_type": "code",
      "metadata": {
        "colab": {
          "base_uri": "https://localhost:8080/"
        },
        "id": "Je09tkFzQbff",
        "outputId": "046ad959-1f93-4c47-bf19-c1c4c9ffda24"
      },
      "source": [
        "#Criar lista vazia\r\n",
        "f = []\r\n",
        "f"
      ],
      "execution_count": 54,
      "outputs": [
        {
          "output_type": "execute_result",
          "data": {
            "text/plain": [
              "[]"
            ]
          },
          "metadata": {
            "tags": []
          },
          "execution_count": 54
        }
      ]
    },
    {
      "cell_type": "markdown",
      "metadata": {
        "id": "7dvwWs77Rc1Y"
      },
      "source": [
        "### ***Estruturas de Controle - Condicional***\r\n",
        "\r\n",
        "---\r\n",
        "\r\n"
      ]
    },
    {
      "cell_type": "code",
      "metadata": {
        "id": "eKHdBmHdRp6s"
      },
      "source": [
        "#Estruturas de controle - Condicional\r\n"
      ],
      "execution_count": null,
      "outputs": []
    }
  ]
}